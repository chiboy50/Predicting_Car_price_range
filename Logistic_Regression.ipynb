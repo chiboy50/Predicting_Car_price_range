{
 "cells": [
  {
   "cell_type": "markdown",
   "id": "445afb4b",
   "metadata": {},
   "source": [
    "# Logistic Regression model on Auto dataset\n",
    "\n",
    "We will examine how the characteristics of the car relate to the price column, which will be our outcome. We will create another column to split our cars into two categories, i.e high price cars and low price cars, our model will be built using logistic regression to predict in which price bracket a car will fall in"
   ]
  },
  {
   "cell_type": "markdown",
   "id": "1c3dd0de",
   "metadata": {},
   "source": [
    "## Exploratory Analysis\n",
    "\n",
    "First we import our libraries"
   ]
  },
  {
   "cell_type": "code",
   "execution_count": 1,
   "id": "7a5a8ca0",
   "metadata": {},
   "outputs": [],
   "source": [
    "import pandas as pd\n",
    "import numpy as np\n",
    "import matplotlib.pyplot as plt\n",
    "from sklearn.preprocessing import MinMaxScaler\n",
    "from sklearn.metrics import mean_squared_error\n",
    "from sklearn.metrics import r2_score\n",
    "from sklearn.model_selection import train_test_split\n",
    "from sklearn.linear_model import LogisticRegression"
   ]
  },
  {
   "cell_type": "code",
   "execution_count": 2,
   "id": "d68a24db",
   "metadata": {},
   "outputs": [],
   "source": [
    "df = pd.read_csv('Automobile_data.csv')"
   ]
  },
  {
   "cell_type": "code",
   "execution_count": 3,
   "id": "085a0cec",
   "metadata": {},
   "outputs": [
    {
     "data": {
      "text/html": [
       "<div>\n",
       "<style scoped>\n",
       "    .dataframe tbody tr th:only-of-type {\n",
       "        vertical-align: middle;\n",
       "    }\n",
       "\n",
       "    .dataframe tbody tr th {\n",
       "        vertical-align: top;\n",
       "    }\n",
       "\n",
       "    .dataframe thead th {\n",
       "        text-align: right;\n",
       "    }\n",
       "</style>\n",
       "<table border=\"1\" class=\"dataframe\">\n",
       "  <thead>\n",
       "    <tr style=\"text-align: right;\">\n",
       "      <th></th>\n",
       "      <th>symboling</th>\n",
       "      <th>normalized-losses</th>\n",
       "      <th>make</th>\n",
       "      <th>fuel-type</th>\n",
       "      <th>aspiration</th>\n",
       "      <th>num-of-doors</th>\n",
       "      <th>body-style</th>\n",
       "      <th>drive-wheels</th>\n",
       "      <th>engine-location</th>\n",
       "      <th>wheel-base</th>\n",
       "      <th>...</th>\n",
       "      <th>engine-size</th>\n",
       "      <th>fuel-system</th>\n",
       "      <th>bore</th>\n",
       "      <th>stroke</th>\n",
       "      <th>compression-ratio</th>\n",
       "      <th>horsepower</th>\n",
       "      <th>peak-rpm</th>\n",
       "      <th>city-mpg</th>\n",
       "      <th>highway-mpg</th>\n",
       "      <th>price</th>\n",
       "    </tr>\n",
       "  </thead>\n",
       "  <tbody>\n",
       "    <tr>\n",
       "      <th>0</th>\n",
       "      <td>3</td>\n",
       "      <td>?</td>\n",
       "      <td>alfa-romero</td>\n",
       "      <td>gas</td>\n",
       "      <td>std</td>\n",
       "      <td>two</td>\n",
       "      <td>convertible</td>\n",
       "      <td>rwd</td>\n",
       "      <td>front</td>\n",
       "      <td>88.6</td>\n",
       "      <td>...</td>\n",
       "      <td>130</td>\n",
       "      <td>mpfi</td>\n",
       "      <td>3.47</td>\n",
       "      <td>2.68</td>\n",
       "      <td>9.0</td>\n",
       "      <td>111</td>\n",
       "      <td>5000</td>\n",
       "      <td>21</td>\n",
       "      <td>27</td>\n",
       "      <td>13495</td>\n",
       "    </tr>\n",
       "    <tr>\n",
       "      <th>1</th>\n",
       "      <td>3</td>\n",
       "      <td>?</td>\n",
       "      <td>alfa-romero</td>\n",
       "      <td>gas</td>\n",
       "      <td>std</td>\n",
       "      <td>two</td>\n",
       "      <td>convertible</td>\n",
       "      <td>rwd</td>\n",
       "      <td>front</td>\n",
       "      <td>88.6</td>\n",
       "      <td>...</td>\n",
       "      <td>130</td>\n",
       "      <td>mpfi</td>\n",
       "      <td>3.47</td>\n",
       "      <td>2.68</td>\n",
       "      <td>9.0</td>\n",
       "      <td>111</td>\n",
       "      <td>5000</td>\n",
       "      <td>21</td>\n",
       "      <td>27</td>\n",
       "      <td>16500</td>\n",
       "    </tr>\n",
       "    <tr>\n",
       "      <th>2</th>\n",
       "      <td>1</td>\n",
       "      <td>?</td>\n",
       "      <td>alfa-romero</td>\n",
       "      <td>gas</td>\n",
       "      <td>std</td>\n",
       "      <td>two</td>\n",
       "      <td>hatchback</td>\n",
       "      <td>rwd</td>\n",
       "      <td>front</td>\n",
       "      <td>94.5</td>\n",
       "      <td>...</td>\n",
       "      <td>152</td>\n",
       "      <td>mpfi</td>\n",
       "      <td>2.68</td>\n",
       "      <td>3.47</td>\n",
       "      <td>9.0</td>\n",
       "      <td>154</td>\n",
       "      <td>5000</td>\n",
       "      <td>19</td>\n",
       "      <td>26</td>\n",
       "      <td>16500</td>\n",
       "    </tr>\n",
       "    <tr>\n",
       "      <th>3</th>\n",
       "      <td>2</td>\n",
       "      <td>164</td>\n",
       "      <td>audi</td>\n",
       "      <td>gas</td>\n",
       "      <td>std</td>\n",
       "      <td>four</td>\n",
       "      <td>sedan</td>\n",
       "      <td>fwd</td>\n",
       "      <td>front</td>\n",
       "      <td>99.8</td>\n",
       "      <td>...</td>\n",
       "      <td>109</td>\n",
       "      <td>mpfi</td>\n",
       "      <td>3.19</td>\n",
       "      <td>3.4</td>\n",
       "      <td>10.0</td>\n",
       "      <td>102</td>\n",
       "      <td>5500</td>\n",
       "      <td>24</td>\n",
       "      <td>30</td>\n",
       "      <td>13950</td>\n",
       "    </tr>\n",
       "    <tr>\n",
       "      <th>4</th>\n",
       "      <td>2</td>\n",
       "      <td>164</td>\n",
       "      <td>audi</td>\n",
       "      <td>gas</td>\n",
       "      <td>std</td>\n",
       "      <td>four</td>\n",
       "      <td>sedan</td>\n",
       "      <td>4wd</td>\n",
       "      <td>front</td>\n",
       "      <td>99.4</td>\n",
       "      <td>...</td>\n",
       "      <td>136</td>\n",
       "      <td>mpfi</td>\n",
       "      <td>3.19</td>\n",
       "      <td>3.4</td>\n",
       "      <td>8.0</td>\n",
       "      <td>115</td>\n",
       "      <td>5500</td>\n",
       "      <td>18</td>\n",
       "      <td>22</td>\n",
       "      <td>17450</td>\n",
       "    </tr>\n",
       "  </tbody>\n",
       "</table>\n",
       "<p>5 rows × 26 columns</p>\n",
       "</div>"
      ],
      "text/plain": [
       "   symboling normalized-losses         make fuel-type aspiration num-of-doors   \n",
       "0          3                 ?  alfa-romero       gas        std          two  \\\n",
       "1          3                 ?  alfa-romero       gas        std          two   \n",
       "2          1                 ?  alfa-romero       gas        std          two   \n",
       "3          2               164         audi       gas        std         four   \n",
       "4          2               164         audi       gas        std         four   \n",
       "\n",
       "    body-style drive-wheels engine-location  wheel-base  ...  engine-size   \n",
       "0  convertible          rwd           front        88.6  ...          130  \\\n",
       "1  convertible          rwd           front        88.6  ...          130   \n",
       "2    hatchback          rwd           front        94.5  ...          152   \n",
       "3        sedan          fwd           front        99.8  ...          109   \n",
       "4        sedan          4wd           front        99.4  ...          136   \n",
       "\n",
       "   fuel-system  bore  stroke compression-ratio horsepower  peak-rpm city-mpg   \n",
       "0         mpfi  3.47    2.68               9.0        111      5000       21  \\\n",
       "1         mpfi  3.47    2.68               9.0        111      5000       21   \n",
       "2         mpfi  2.68    3.47               9.0        154      5000       19   \n",
       "3         mpfi  3.19     3.4              10.0        102      5500       24   \n",
       "4         mpfi  3.19     3.4               8.0        115      5500       18   \n",
       "\n",
       "  highway-mpg  price  \n",
       "0          27  13495  \n",
       "1          27  16500  \n",
       "2          26  16500  \n",
       "3          30  13950  \n",
       "4          22  17450  \n",
       "\n",
       "[5 rows x 26 columns]"
      ]
     },
     "execution_count": 3,
     "metadata": {},
     "output_type": "execute_result"
    }
   ],
   "source": [
    "df.head()"
   ]
  },
  {
   "cell_type": "code",
   "execution_count": 4,
   "id": "4fa8e4d6",
   "metadata": {},
   "outputs": [
    {
     "data": {
      "text/plain": [
       "normalized-losses\n",
       "?      41\n",
       "161    11\n",
       "91      8\n",
       "150     7\n",
       "134     6\n",
       "128     6\n",
       "104     6\n",
       "85      5\n",
       "94      5\n",
       "65      5\n",
       "102     5\n",
       "74      5\n",
       "168     5\n",
       "103     5\n",
       "95      5\n",
       "106     4\n",
       "93      4\n",
       "118     4\n",
       "148     4\n",
       "122     4\n",
       "83      3\n",
       "125     3\n",
       "154     3\n",
       "115     3\n",
       "137     3\n",
       "101     3\n",
       "119     2\n",
       "87      2\n",
       "89      2\n",
       "192     2\n",
       "197     2\n",
       "158     2\n",
       "81      2\n",
       "188     2\n",
       "194     2\n",
       "153     2\n",
       "129     2\n",
       "108     2\n",
       "110     2\n",
       "164     2\n",
       "145     2\n",
       "113     2\n",
       "256     1\n",
       "107     1\n",
       "90      1\n",
       "231     1\n",
       "142     1\n",
       "121     1\n",
       "78      1\n",
       "98      1\n",
       "186     1\n",
       "77      1\n",
       "Name: count, dtype: int64"
      ]
     },
     "execution_count": 4,
     "metadata": {},
     "output_type": "execute_result"
    }
   ],
   "source": [
    "df['normalized-losses'].value_counts()"
   ]
  },
  {
   "cell_type": "code",
   "execution_count": 5,
   "id": "3bd6af9b",
   "metadata": {},
   "outputs": [],
   "source": [
    "# We will delete the rows with \"?\" as their is no clear mea, median\n",
    "df = df[df['normalized-losses'] !='?']"
   ]
  },
  {
   "cell_type": "code",
   "execution_count": 6,
   "id": "541db0a7",
   "metadata": {},
   "outputs": [
    {
     "data": {
      "text/plain": [
       "normalized-losses\n",
       "161    11\n",
       "91      8\n",
       "150     7\n",
       "128     6\n",
       "134     6\n",
       "104     6\n",
       "95      5\n",
       "102     5\n",
       "103     5\n",
       "74      5\n",
       "85      5\n",
       "168     5\n",
       "94      5\n",
       "65      5\n",
       "106     4\n",
       "122     4\n",
       "148     4\n",
       "118     4\n",
       "93      4\n",
       "101     3\n",
       "125     3\n",
       "137     3\n",
       "154     3\n",
       "83      3\n",
       "115     3\n",
       "119     2\n",
       "87      2\n",
       "194     2\n",
       "197     2\n",
       "108     2\n",
       "89      2\n",
       "164     2\n",
       "158     2\n",
       "145     2\n",
       "192     2\n",
       "188     2\n",
       "81      2\n",
       "110     2\n",
       "113     2\n",
       "129     2\n",
       "153     2\n",
       "107     1\n",
       "78      1\n",
       "186     1\n",
       "231     1\n",
       "77      1\n",
       "98      1\n",
       "121     1\n",
       "90      1\n",
       "142     1\n",
       "256     1\n",
       "Name: count, dtype: int64"
      ]
     },
     "execution_count": 6,
     "metadata": {},
     "output_type": "execute_result"
    }
   ],
   "source": [
    "df['normalized-losses'].value_counts()"
   ]
  },
  {
   "cell_type": "code",
   "execution_count": 7,
   "id": "7099a91d",
   "metadata": {},
   "outputs": [
    {
     "name": "stdout",
     "output_type": "stream",
     "text": [
      "<class 'pandas.core.frame.DataFrame'>\n",
      "Index: 164 entries, 3 to 204\n",
      "Data columns (total 26 columns):\n",
      " #   Column             Non-Null Count  Dtype  \n",
      "---  ------             --------------  -----  \n",
      " 0   symboling          164 non-null    int64  \n",
      " 1   normalized-losses  164 non-null    object \n",
      " 2   make               164 non-null    object \n",
      " 3   fuel-type          164 non-null    object \n",
      " 4   aspiration         164 non-null    object \n",
      " 5   num-of-doors       164 non-null    object \n",
      " 6   body-style         164 non-null    object \n",
      " 7   drive-wheels       164 non-null    object \n",
      " 8   engine-location    164 non-null    object \n",
      " 9   wheel-base         164 non-null    float64\n",
      " 10  length             164 non-null    float64\n",
      " 11  width              164 non-null    float64\n",
      " 12  height             164 non-null    float64\n",
      " 13  curb-weight        164 non-null    int64  \n",
      " 14  engine-type        164 non-null    object \n",
      " 15  num-of-cylinders   164 non-null    object \n",
      " 16  engine-size        164 non-null    int64  \n",
      " 17  fuel-system        164 non-null    object \n",
      " 18  bore               164 non-null    object \n",
      " 19  stroke             164 non-null    object \n",
      " 20  compression-ratio  164 non-null    float64\n",
      " 21  horsepower         164 non-null    object \n",
      " 22  peak-rpm           164 non-null    object \n",
      " 23  city-mpg           164 non-null    int64  \n",
      " 24  highway-mpg        164 non-null    int64  \n",
      " 25  price              164 non-null    object \n",
      "dtypes: float64(5), int64(5), object(16)\n",
      "memory usage: 34.6+ KB\n"
     ]
    }
   ],
   "source": [
    "df.info()"
   ]
  },
  {
   "cell_type": "code",
   "execution_count": 8,
   "id": "431faea1",
   "metadata": {},
   "outputs": [
    {
     "data": {
      "text/plain": [
       "symboling            0\n",
       "normalized-losses    0\n",
       "make                 0\n",
       "fuel-type            0\n",
       "aspiration           0\n",
       "num-of-doors         0\n",
       "body-style           0\n",
       "drive-wheels         0\n",
       "engine-location      0\n",
       "wheel-base           0\n",
       "length               0\n",
       "width                0\n",
       "height               0\n",
       "curb-weight          0\n",
       "engine-type          0\n",
       "num-of-cylinders     0\n",
       "engine-size          0\n",
       "fuel-system          0\n",
       "bore                 0\n",
       "stroke               0\n",
       "compression-ratio    0\n",
       "horsepower           0\n",
       "peak-rpm             0\n",
       "city-mpg             0\n",
       "highway-mpg          0\n",
       "price                0\n",
       "dtype: int64"
      ]
     },
     "execution_count": 8,
     "metadata": {},
     "output_type": "execute_result"
    }
   ],
   "source": [
    "# check for null values\n",
    "df.isnull().sum()"
   ]
  },
  {
   "cell_type": "code",
   "execution_count": 9,
   "id": "1d9baf6d",
   "metadata": {},
   "outputs": [],
   "source": [
    "# we will replace the \"?\" with nan so we can see them when checking for null\n",
    "df.replace('?', np.nan, inplace=True)"
   ]
  },
  {
   "cell_type": "code",
   "execution_count": 10,
   "id": "ec4da07d",
   "metadata": {},
   "outputs": [
    {
     "data": {
      "text/plain": [
       "symboling            0\n",
       "normalized-losses    0\n",
       "make                 0\n",
       "fuel-type            0\n",
       "aspiration           0\n",
       "num-of-doors         1\n",
       "body-style           0\n",
       "drive-wheels         0\n",
       "engine-location      0\n",
       "wheel-base           0\n",
       "length               0\n",
       "width                0\n",
       "height               0\n",
       "curb-weight          0\n",
       "engine-type          0\n",
       "num-of-cylinders     0\n",
       "engine-size          0\n",
       "fuel-system          0\n",
       "bore                 4\n",
       "stroke               4\n",
       "compression-ratio    0\n",
       "horsepower           0\n",
       "peak-rpm             0\n",
       "city-mpg             0\n",
       "highway-mpg          0\n",
       "price                0\n",
       "dtype: int64"
      ]
     },
     "execution_count": 10,
     "metadata": {},
     "output_type": "execute_result"
    }
   ],
   "source": [
    "df.isnull().sum()"
   ]
  },
  {
   "cell_type": "markdown",
   "id": "95423526",
   "metadata": {},
   "source": [
    "we will check all 3 columns with nan to decide how to replace them "
   ]
  },
  {
   "cell_type": "code",
   "execution_count": 11,
   "id": "6096b9c3",
   "metadata": {},
   "outputs": [
    {
     "data": {
      "text/plain": [
       "num-of-doors\n",
       "four    95\n",
       "two     68\n",
       "Name: count, dtype: int64"
      ]
     },
     "execution_count": 11,
     "metadata": {},
     "output_type": "execute_result"
    }
   ],
   "source": [
    "df['num-of-doors'].value_counts()"
   ]
  },
  {
   "cell_type": "code",
   "execution_count": 12,
   "id": "3c37065f",
   "metadata": {},
   "outputs": [
    {
     "data": {
      "text/plain": [
       "bore\n",
       "3.62    20\n",
       "3.19    15\n",
       "3.15    15\n",
       "2.97    12\n",
       "3.03    10\n",
       "3.78     7\n",
       "2.91     7\n",
       "3.27     6\n",
       "3.31     6\n",
       "3.05     6\n",
       "3.43     6\n",
       "3.54     5\n",
       "3.39     5\n",
       "3.58     5\n",
       "3.35     4\n",
       "3.01     4\n",
       "3.46     4\n",
       "3.17     3\n",
       "3.7      3\n",
       "3.33     2\n",
       "3.5      2\n",
       "3.24     2\n",
       "3.13     1\n",
       "3.34     1\n",
       "3.76     1\n",
       "3.61     1\n",
       "3.94     1\n",
       "3.08     1\n",
       "2.54     1\n",
       "3.63     1\n",
       "2.92     1\n",
       "3.6      1\n",
       "2.99     1\n",
       "Name: count, dtype: int64"
      ]
     },
     "execution_count": 12,
     "metadata": {},
     "output_type": "execute_result"
    }
   ],
   "source": [
    "df['bore'].value_counts()"
   ]
  },
  {
   "cell_type": "code",
   "execution_count": 13,
   "id": "c993e91e",
   "metadata": {},
   "outputs": [
    {
     "data": {
      "text/plain": [
       "stroke\n",
       "3.03    14\n",
       "3.15    14\n",
       "3.4     13\n",
       "3.23    12\n",
       "2.64    11\n",
       "3.29     9\n",
       "3.39     9\n",
       "3.46     8\n",
       "3.5      6\n",
       "3.35     6\n",
       "3.41     6\n",
       "3.07     6\n",
       "3.58     6\n",
       "3.27     6\n",
       "3.54     4\n",
       "3.64     4\n",
       "3.19     4\n",
       "3.47     3\n",
       "3.52     3\n",
       "3.11     3\n",
       "2.8      2\n",
       "3.08     2\n",
       "3.1      1\n",
       "3.16     1\n",
       "2.19     1\n",
       "3.21     1\n",
       "2.07     1\n",
       "2.36     1\n",
       "4.17     1\n",
       "3.9      1\n",
       "2.87     1\n",
       "Name: count, dtype: int64"
      ]
     },
     "execution_count": 13,
     "metadata": {},
     "output_type": "execute_result"
    }
   ],
   "source": [
    "df['stroke'].value_counts()"
   ]
  },
  {
   "cell_type": "markdown",
   "id": "8a8fd3f3",
   "metadata": {},
   "source": [
    "Since replacing with the mean or median will not really be accurate and the rows with nan are few, we will delete them"
   ]
  },
  {
   "cell_type": "code",
   "execution_count": 14,
   "id": "b1c270d4",
   "metadata": {},
   "outputs": [],
   "source": [
    "df.dropna(inplace=True)"
   ]
  },
  {
   "cell_type": "code",
   "execution_count": 15,
   "id": "f9114d9c",
   "metadata": {},
   "outputs": [
    {
     "data": {
      "text/plain": [
       "symboling            0\n",
       "normalized-losses    0\n",
       "make                 0\n",
       "fuel-type            0\n",
       "aspiration           0\n",
       "num-of-doors         0\n",
       "body-style           0\n",
       "drive-wheels         0\n",
       "engine-location      0\n",
       "wheel-base           0\n",
       "length               0\n",
       "width                0\n",
       "height               0\n",
       "curb-weight          0\n",
       "engine-type          0\n",
       "num-of-cylinders     0\n",
       "engine-size          0\n",
       "fuel-system          0\n",
       "bore                 0\n",
       "stroke               0\n",
       "compression-ratio    0\n",
       "horsepower           0\n",
       "peak-rpm             0\n",
       "city-mpg             0\n",
       "highway-mpg          0\n",
       "price                0\n",
       "dtype: int64"
      ]
     },
     "execution_count": 15,
     "metadata": {},
     "output_type": "execute_result"
    }
   ],
   "source": [
    "df.isna().sum()"
   ]
  },
  {
   "cell_type": "code",
   "execution_count": 16,
   "id": "0e289fc6",
   "metadata": {},
   "outputs": [],
   "source": [
    "# reset the index\n",
    "df = df.reset_index(drop=True)"
   ]
  },
  {
   "cell_type": "code",
   "execution_count": 17,
   "id": "affe661c",
   "metadata": {},
   "outputs": [],
   "source": [
    "# change the type of some variables from object to float\n",
    "df[['normalized-losses', 'stroke', 'bore', 'horsepower', 'peak-rpm', 'price']] = df[['normalized-losses', 'stroke', 'bore', 'horsepower', 'peak-rpm', 'price']].astype(float)"
   ]
  },
  {
   "cell_type": "code",
   "execution_count": 18,
   "id": "83492287",
   "metadata": {},
   "outputs": [
    {
     "data": {
      "text/html": [
       "<div>\n",
       "<style scoped>\n",
       "    .dataframe tbody tr th:only-of-type {\n",
       "        vertical-align: middle;\n",
       "    }\n",
       "\n",
       "    .dataframe tbody tr th {\n",
       "        vertical-align: top;\n",
       "    }\n",
       "\n",
       "    .dataframe thead th {\n",
       "        text-align: right;\n",
       "    }\n",
       "</style>\n",
       "<table border=\"1\" class=\"dataframe\">\n",
       "  <thead>\n",
       "    <tr style=\"text-align: right;\">\n",
       "      <th></th>\n",
       "      <th>symboling</th>\n",
       "      <th>normalized-losses</th>\n",
       "      <th>make</th>\n",
       "      <th>fuel-type</th>\n",
       "      <th>aspiration</th>\n",
       "      <th>num-of-doors</th>\n",
       "      <th>body-style</th>\n",
       "      <th>drive-wheels</th>\n",
       "      <th>engine-location</th>\n",
       "      <th>wheel-base</th>\n",
       "      <th>...</th>\n",
       "      <th>engine-size</th>\n",
       "      <th>fuel-system</th>\n",
       "      <th>bore</th>\n",
       "      <th>stroke</th>\n",
       "      <th>compression-ratio</th>\n",
       "      <th>horsepower</th>\n",
       "      <th>peak-rpm</th>\n",
       "      <th>city-mpg</th>\n",
       "      <th>highway-mpg</th>\n",
       "      <th>price</th>\n",
       "    </tr>\n",
       "  </thead>\n",
       "  <tbody>\n",
       "    <tr>\n",
       "      <th>0</th>\n",
       "      <td>2</td>\n",
       "      <td>164.0</td>\n",
       "      <td>audi</td>\n",
       "      <td>gas</td>\n",
       "      <td>std</td>\n",
       "      <td>four</td>\n",
       "      <td>sedan</td>\n",
       "      <td>fwd</td>\n",
       "      <td>front</td>\n",
       "      <td>99.8</td>\n",
       "      <td>...</td>\n",
       "      <td>109</td>\n",
       "      <td>mpfi</td>\n",
       "      <td>3.19</td>\n",
       "      <td>3.4</td>\n",
       "      <td>10.0</td>\n",
       "      <td>102.0</td>\n",
       "      <td>5500.0</td>\n",
       "      <td>24</td>\n",
       "      <td>30</td>\n",
       "      <td>13950.0</td>\n",
       "    </tr>\n",
       "    <tr>\n",
       "      <th>1</th>\n",
       "      <td>2</td>\n",
       "      <td>164.0</td>\n",
       "      <td>audi</td>\n",
       "      <td>gas</td>\n",
       "      <td>std</td>\n",
       "      <td>four</td>\n",
       "      <td>sedan</td>\n",
       "      <td>4wd</td>\n",
       "      <td>front</td>\n",
       "      <td>99.4</td>\n",
       "      <td>...</td>\n",
       "      <td>136</td>\n",
       "      <td>mpfi</td>\n",
       "      <td>3.19</td>\n",
       "      <td>3.4</td>\n",
       "      <td>8.0</td>\n",
       "      <td>115.0</td>\n",
       "      <td>5500.0</td>\n",
       "      <td>18</td>\n",
       "      <td>22</td>\n",
       "      <td>17450.0</td>\n",
       "    </tr>\n",
       "    <tr>\n",
       "      <th>2</th>\n",
       "      <td>1</td>\n",
       "      <td>158.0</td>\n",
       "      <td>audi</td>\n",
       "      <td>gas</td>\n",
       "      <td>std</td>\n",
       "      <td>four</td>\n",
       "      <td>sedan</td>\n",
       "      <td>fwd</td>\n",
       "      <td>front</td>\n",
       "      <td>105.8</td>\n",
       "      <td>...</td>\n",
       "      <td>136</td>\n",
       "      <td>mpfi</td>\n",
       "      <td>3.19</td>\n",
       "      <td>3.4</td>\n",
       "      <td>8.5</td>\n",
       "      <td>110.0</td>\n",
       "      <td>5500.0</td>\n",
       "      <td>19</td>\n",
       "      <td>25</td>\n",
       "      <td>17710.0</td>\n",
       "    </tr>\n",
       "    <tr>\n",
       "      <th>3</th>\n",
       "      <td>1</td>\n",
       "      <td>158.0</td>\n",
       "      <td>audi</td>\n",
       "      <td>gas</td>\n",
       "      <td>turbo</td>\n",
       "      <td>four</td>\n",
       "      <td>sedan</td>\n",
       "      <td>fwd</td>\n",
       "      <td>front</td>\n",
       "      <td>105.8</td>\n",
       "      <td>...</td>\n",
       "      <td>131</td>\n",
       "      <td>mpfi</td>\n",
       "      <td>3.13</td>\n",
       "      <td>3.4</td>\n",
       "      <td>8.3</td>\n",
       "      <td>140.0</td>\n",
       "      <td>5500.0</td>\n",
       "      <td>17</td>\n",
       "      <td>20</td>\n",
       "      <td>23875.0</td>\n",
       "    </tr>\n",
       "    <tr>\n",
       "      <th>4</th>\n",
       "      <td>2</td>\n",
       "      <td>192.0</td>\n",
       "      <td>bmw</td>\n",
       "      <td>gas</td>\n",
       "      <td>std</td>\n",
       "      <td>two</td>\n",
       "      <td>sedan</td>\n",
       "      <td>rwd</td>\n",
       "      <td>front</td>\n",
       "      <td>101.2</td>\n",
       "      <td>...</td>\n",
       "      <td>108</td>\n",
       "      <td>mpfi</td>\n",
       "      <td>3.50</td>\n",
       "      <td>2.8</td>\n",
       "      <td>8.8</td>\n",
       "      <td>101.0</td>\n",
       "      <td>5800.0</td>\n",
       "      <td>23</td>\n",
       "      <td>29</td>\n",
       "      <td>16430.0</td>\n",
       "    </tr>\n",
       "  </tbody>\n",
       "</table>\n",
       "<p>5 rows × 26 columns</p>\n",
       "</div>"
      ],
      "text/plain": [
       "   symboling  normalized-losses  make fuel-type aspiration num-of-doors   \n",
       "0          2              164.0  audi       gas        std         four  \\\n",
       "1          2              164.0  audi       gas        std         four   \n",
       "2          1              158.0  audi       gas        std         four   \n",
       "3          1              158.0  audi       gas      turbo         four   \n",
       "4          2              192.0   bmw       gas        std          two   \n",
       "\n",
       "  body-style drive-wheels engine-location  wheel-base  ...  engine-size   \n",
       "0      sedan          fwd           front        99.8  ...          109  \\\n",
       "1      sedan          4wd           front        99.4  ...          136   \n",
       "2      sedan          fwd           front       105.8  ...          136   \n",
       "3      sedan          fwd           front       105.8  ...          131   \n",
       "4      sedan          rwd           front       101.2  ...          108   \n",
       "\n",
       "   fuel-system  bore  stroke compression-ratio horsepower  peak-rpm city-mpg   \n",
       "0         mpfi  3.19     3.4              10.0      102.0    5500.0       24  \\\n",
       "1         mpfi  3.19     3.4               8.0      115.0    5500.0       18   \n",
       "2         mpfi  3.19     3.4               8.5      110.0    5500.0       19   \n",
       "3         mpfi  3.13     3.4               8.3      140.0    5500.0       17   \n",
       "4         mpfi  3.50     2.8               8.8      101.0    5800.0       23   \n",
       "\n",
       "   highway-mpg    price  \n",
       "0           30  13950.0  \n",
       "1           22  17450.0  \n",
       "2           25  17710.0  \n",
       "3           20  23875.0  \n",
       "4           29  16430.0  \n",
       "\n",
       "[5 rows x 26 columns]"
      ]
     },
     "execution_count": 18,
     "metadata": {},
     "output_type": "execute_result"
    }
   ],
   "source": [
    "df.head()"
   ]
  },
  {
   "cell_type": "markdown",
   "id": "49685877",
   "metadata": {},
   "source": [
    "Our Auto dataframe is now ready for Machine Learning"
   ]
  },
  {
   "cell_type": "markdown",
   "id": "611f5fe7",
   "metadata": {},
   "source": [
    "## Logistic Regression"
   ]
  },
  {
   "cell_type": "code",
   "execution_count": 19,
   "id": "4aac1610",
   "metadata": {},
   "outputs": [],
   "source": [
    "df['high_price']  = 0\n",
    "df.loc[df[\"price\"] > 15000, \"high_price\"] = 1"
   ]
  },
  {
   "cell_type": "code",
   "execution_count": 20,
   "id": "82899feb",
   "metadata": {},
   "outputs": [
    {
     "data": {
      "text/html": [
       "<div>\n",
       "<style scoped>\n",
       "    .dataframe tbody tr th:only-of-type {\n",
       "        vertical-align: middle;\n",
       "    }\n",
       "\n",
       "    .dataframe tbody tr th {\n",
       "        vertical-align: top;\n",
       "    }\n",
       "\n",
       "    .dataframe thead th {\n",
       "        text-align: right;\n",
       "    }\n",
       "</style>\n",
       "<table border=\"1\" class=\"dataframe\">\n",
       "  <thead>\n",
       "    <tr style=\"text-align: right;\">\n",
       "      <th></th>\n",
       "      <th>symboling</th>\n",
       "      <th>normalized-losses</th>\n",
       "      <th>make</th>\n",
       "      <th>fuel-type</th>\n",
       "      <th>aspiration</th>\n",
       "      <th>num-of-doors</th>\n",
       "      <th>body-style</th>\n",
       "      <th>drive-wheels</th>\n",
       "      <th>engine-location</th>\n",
       "      <th>wheel-base</th>\n",
       "      <th>...</th>\n",
       "      <th>fuel-system</th>\n",
       "      <th>bore</th>\n",
       "      <th>stroke</th>\n",
       "      <th>compression-ratio</th>\n",
       "      <th>horsepower</th>\n",
       "      <th>peak-rpm</th>\n",
       "      <th>city-mpg</th>\n",
       "      <th>highway-mpg</th>\n",
       "      <th>price</th>\n",
       "      <th>high_price</th>\n",
       "    </tr>\n",
       "  </thead>\n",
       "  <tbody>\n",
       "    <tr>\n",
       "      <th>0</th>\n",
       "      <td>2</td>\n",
       "      <td>164.0</td>\n",
       "      <td>audi</td>\n",
       "      <td>gas</td>\n",
       "      <td>std</td>\n",
       "      <td>four</td>\n",
       "      <td>sedan</td>\n",
       "      <td>fwd</td>\n",
       "      <td>front</td>\n",
       "      <td>99.8</td>\n",
       "      <td>...</td>\n",
       "      <td>mpfi</td>\n",
       "      <td>3.19</td>\n",
       "      <td>3.40</td>\n",
       "      <td>10.0</td>\n",
       "      <td>102.0</td>\n",
       "      <td>5500.0</td>\n",
       "      <td>24</td>\n",
       "      <td>30</td>\n",
       "      <td>13950.0</td>\n",
       "      <td>0</td>\n",
       "    </tr>\n",
       "    <tr>\n",
       "      <th>1</th>\n",
       "      <td>2</td>\n",
       "      <td>164.0</td>\n",
       "      <td>audi</td>\n",
       "      <td>gas</td>\n",
       "      <td>std</td>\n",
       "      <td>four</td>\n",
       "      <td>sedan</td>\n",
       "      <td>4wd</td>\n",
       "      <td>front</td>\n",
       "      <td>99.4</td>\n",
       "      <td>...</td>\n",
       "      <td>mpfi</td>\n",
       "      <td>3.19</td>\n",
       "      <td>3.40</td>\n",
       "      <td>8.0</td>\n",
       "      <td>115.0</td>\n",
       "      <td>5500.0</td>\n",
       "      <td>18</td>\n",
       "      <td>22</td>\n",
       "      <td>17450.0</td>\n",
       "      <td>1</td>\n",
       "    </tr>\n",
       "    <tr>\n",
       "      <th>2</th>\n",
       "      <td>1</td>\n",
       "      <td>158.0</td>\n",
       "      <td>audi</td>\n",
       "      <td>gas</td>\n",
       "      <td>std</td>\n",
       "      <td>four</td>\n",
       "      <td>sedan</td>\n",
       "      <td>fwd</td>\n",
       "      <td>front</td>\n",
       "      <td>105.8</td>\n",
       "      <td>...</td>\n",
       "      <td>mpfi</td>\n",
       "      <td>3.19</td>\n",
       "      <td>3.40</td>\n",
       "      <td>8.5</td>\n",
       "      <td>110.0</td>\n",
       "      <td>5500.0</td>\n",
       "      <td>19</td>\n",
       "      <td>25</td>\n",
       "      <td>17710.0</td>\n",
       "      <td>1</td>\n",
       "    </tr>\n",
       "    <tr>\n",
       "      <th>3</th>\n",
       "      <td>1</td>\n",
       "      <td>158.0</td>\n",
       "      <td>audi</td>\n",
       "      <td>gas</td>\n",
       "      <td>turbo</td>\n",
       "      <td>four</td>\n",
       "      <td>sedan</td>\n",
       "      <td>fwd</td>\n",
       "      <td>front</td>\n",
       "      <td>105.8</td>\n",
       "      <td>...</td>\n",
       "      <td>mpfi</td>\n",
       "      <td>3.13</td>\n",
       "      <td>3.40</td>\n",
       "      <td>8.3</td>\n",
       "      <td>140.0</td>\n",
       "      <td>5500.0</td>\n",
       "      <td>17</td>\n",
       "      <td>20</td>\n",
       "      <td>23875.0</td>\n",
       "      <td>1</td>\n",
       "    </tr>\n",
       "    <tr>\n",
       "      <th>4</th>\n",
       "      <td>2</td>\n",
       "      <td>192.0</td>\n",
       "      <td>bmw</td>\n",
       "      <td>gas</td>\n",
       "      <td>std</td>\n",
       "      <td>two</td>\n",
       "      <td>sedan</td>\n",
       "      <td>rwd</td>\n",
       "      <td>front</td>\n",
       "      <td>101.2</td>\n",
       "      <td>...</td>\n",
       "      <td>mpfi</td>\n",
       "      <td>3.50</td>\n",
       "      <td>2.80</td>\n",
       "      <td>8.8</td>\n",
       "      <td>101.0</td>\n",
       "      <td>5800.0</td>\n",
       "      <td>23</td>\n",
       "      <td>29</td>\n",
       "      <td>16430.0</td>\n",
       "      <td>1</td>\n",
       "    </tr>\n",
       "    <tr>\n",
       "      <th>...</th>\n",
       "      <td>...</td>\n",
       "      <td>...</td>\n",
       "      <td>...</td>\n",
       "      <td>...</td>\n",
       "      <td>...</td>\n",
       "      <td>...</td>\n",
       "      <td>...</td>\n",
       "      <td>...</td>\n",
       "      <td>...</td>\n",
       "      <td>...</td>\n",
       "      <td>...</td>\n",
       "      <td>...</td>\n",
       "      <td>...</td>\n",
       "      <td>...</td>\n",
       "      <td>...</td>\n",
       "      <td>...</td>\n",
       "      <td>...</td>\n",
       "      <td>...</td>\n",
       "      <td>...</td>\n",
       "      <td>...</td>\n",
       "      <td>...</td>\n",
       "    </tr>\n",
       "    <tr>\n",
       "      <th>154</th>\n",
       "      <td>-1</td>\n",
       "      <td>95.0</td>\n",
       "      <td>volvo</td>\n",
       "      <td>gas</td>\n",
       "      <td>std</td>\n",
       "      <td>four</td>\n",
       "      <td>sedan</td>\n",
       "      <td>rwd</td>\n",
       "      <td>front</td>\n",
       "      <td>109.1</td>\n",
       "      <td>...</td>\n",
       "      <td>mpfi</td>\n",
       "      <td>3.78</td>\n",
       "      <td>3.15</td>\n",
       "      <td>9.5</td>\n",
       "      <td>114.0</td>\n",
       "      <td>5400.0</td>\n",
       "      <td>23</td>\n",
       "      <td>28</td>\n",
       "      <td>16845.0</td>\n",
       "      <td>1</td>\n",
       "    </tr>\n",
       "    <tr>\n",
       "      <th>155</th>\n",
       "      <td>-1</td>\n",
       "      <td>95.0</td>\n",
       "      <td>volvo</td>\n",
       "      <td>gas</td>\n",
       "      <td>turbo</td>\n",
       "      <td>four</td>\n",
       "      <td>sedan</td>\n",
       "      <td>rwd</td>\n",
       "      <td>front</td>\n",
       "      <td>109.1</td>\n",
       "      <td>...</td>\n",
       "      <td>mpfi</td>\n",
       "      <td>3.78</td>\n",
       "      <td>3.15</td>\n",
       "      <td>8.7</td>\n",
       "      <td>160.0</td>\n",
       "      <td>5300.0</td>\n",
       "      <td>19</td>\n",
       "      <td>25</td>\n",
       "      <td>19045.0</td>\n",
       "      <td>1</td>\n",
       "    </tr>\n",
       "    <tr>\n",
       "      <th>156</th>\n",
       "      <td>-1</td>\n",
       "      <td>95.0</td>\n",
       "      <td>volvo</td>\n",
       "      <td>gas</td>\n",
       "      <td>std</td>\n",
       "      <td>four</td>\n",
       "      <td>sedan</td>\n",
       "      <td>rwd</td>\n",
       "      <td>front</td>\n",
       "      <td>109.1</td>\n",
       "      <td>...</td>\n",
       "      <td>mpfi</td>\n",
       "      <td>3.58</td>\n",
       "      <td>2.87</td>\n",
       "      <td>8.8</td>\n",
       "      <td>134.0</td>\n",
       "      <td>5500.0</td>\n",
       "      <td>18</td>\n",
       "      <td>23</td>\n",
       "      <td>21485.0</td>\n",
       "      <td>1</td>\n",
       "    </tr>\n",
       "    <tr>\n",
       "      <th>157</th>\n",
       "      <td>-1</td>\n",
       "      <td>95.0</td>\n",
       "      <td>volvo</td>\n",
       "      <td>diesel</td>\n",
       "      <td>turbo</td>\n",
       "      <td>four</td>\n",
       "      <td>sedan</td>\n",
       "      <td>rwd</td>\n",
       "      <td>front</td>\n",
       "      <td>109.1</td>\n",
       "      <td>...</td>\n",
       "      <td>idi</td>\n",
       "      <td>3.01</td>\n",
       "      <td>3.40</td>\n",
       "      <td>23.0</td>\n",
       "      <td>106.0</td>\n",
       "      <td>4800.0</td>\n",
       "      <td>26</td>\n",
       "      <td>27</td>\n",
       "      <td>22470.0</td>\n",
       "      <td>1</td>\n",
       "    </tr>\n",
       "    <tr>\n",
       "      <th>158</th>\n",
       "      <td>-1</td>\n",
       "      <td>95.0</td>\n",
       "      <td>volvo</td>\n",
       "      <td>gas</td>\n",
       "      <td>turbo</td>\n",
       "      <td>four</td>\n",
       "      <td>sedan</td>\n",
       "      <td>rwd</td>\n",
       "      <td>front</td>\n",
       "      <td>109.1</td>\n",
       "      <td>...</td>\n",
       "      <td>mpfi</td>\n",
       "      <td>3.78</td>\n",
       "      <td>3.15</td>\n",
       "      <td>9.5</td>\n",
       "      <td>114.0</td>\n",
       "      <td>5400.0</td>\n",
       "      <td>19</td>\n",
       "      <td>25</td>\n",
       "      <td>22625.0</td>\n",
       "      <td>1</td>\n",
       "    </tr>\n",
       "  </tbody>\n",
       "</table>\n",
       "<p>159 rows × 27 columns</p>\n",
       "</div>"
      ],
      "text/plain": [
       "     symboling  normalized-losses   make fuel-type aspiration num-of-doors   \n",
       "0            2              164.0   audi       gas        std         four  \\\n",
       "1            2              164.0   audi       gas        std         four   \n",
       "2            1              158.0   audi       gas        std         four   \n",
       "3            1              158.0   audi       gas      turbo         four   \n",
       "4            2              192.0    bmw       gas        std          two   \n",
       "..         ...                ...    ...       ...        ...          ...   \n",
       "154         -1               95.0  volvo       gas        std         four   \n",
       "155         -1               95.0  volvo       gas      turbo         four   \n",
       "156         -1               95.0  volvo       gas        std         four   \n",
       "157         -1               95.0  volvo    diesel      turbo         four   \n",
       "158         -1               95.0  volvo       gas      turbo         four   \n",
       "\n",
       "    body-style drive-wheels engine-location  wheel-base  ...  fuel-system   \n",
       "0        sedan          fwd           front        99.8  ...         mpfi  \\\n",
       "1        sedan          4wd           front        99.4  ...         mpfi   \n",
       "2        sedan          fwd           front       105.8  ...         mpfi   \n",
       "3        sedan          fwd           front       105.8  ...         mpfi   \n",
       "4        sedan          rwd           front       101.2  ...         mpfi   \n",
       "..         ...          ...             ...         ...  ...          ...   \n",
       "154      sedan          rwd           front       109.1  ...         mpfi   \n",
       "155      sedan          rwd           front       109.1  ...         mpfi   \n",
       "156      sedan          rwd           front       109.1  ...         mpfi   \n",
       "157      sedan          rwd           front       109.1  ...          idi   \n",
       "158      sedan          rwd           front       109.1  ...         mpfi   \n",
       "\n",
       "     bore  stroke  compression-ratio horsepower peak-rpm  city-mpg   \n",
       "0    3.19    3.40               10.0      102.0   5500.0        24  \\\n",
       "1    3.19    3.40                8.0      115.0   5500.0        18   \n",
       "2    3.19    3.40                8.5      110.0   5500.0        19   \n",
       "3    3.13    3.40                8.3      140.0   5500.0        17   \n",
       "4    3.50    2.80                8.8      101.0   5800.0        23   \n",
       "..    ...     ...                ...        ...      ...       ...   \n",
       "154  3.78    3.15                9.5      114.0   5400.0        23   \n",
       "155  3.78    3.15                8.7      160.0   5300.0        19   \n",
       "156  3.58    2.87                8.8      134.0   5500.0        18   \n",
       "157  3.01    3.40               23.0      106.0   4800.0        26   \n",
       "158  3.78    3.15                9.5      114.0   5400.0        19   \n",
       "\n",
       "    highway-mpg    price  high_price  \n",
       "0            30  13950.0           0  \n",
       "1            22  17450.0           1  \n",
       "2            25  17710.0           1  \n",
       "3            20  23875.0           1  \n",
       "4            29  16430.0           1  \n",
       "..          ...      ...         ...  \n",
       "154          28  16845.0           1  \n",
       "155          25  19045.0           1  \n",
       "156          23  21485.0           1  \n",
       "157          27  22470.0           1  \n",
       "158          25  22625.0           1  \n",
       "\n",
       "[159 rows x 27 columns]"
      ]
     },
     "execution_count": 20,
     "metadata": {},
     "output_type": "execute_result"
    }
   ],
   "source": [
    "df"
   ]
  },
  {
   "cell_type": "code",
   "execution_count": 21,
   "id": "509ed9b9",
   "metadata": {},
   "outputs": [],
   "source": [
    "X = df.drop(['price', 'high_price'], axis=1)\n",
    "y = df['high_price']"
   ]
  },
  {
   "cell_type": "code",
   "execution_count": 22,
   "id": "ad5602a5",
   "metadata": {},
   "outputs": [],
   "source": [
    "# Using train test split for our data\n",
    "X_train, X_test, y_train, y_test = train_test_split(X, y, test_size = 0.20, random_state=731)"
   ]
  },
  {
   "cell_type": "code",
   "execution_count": 23,
   "id": "07ceb059",
   "metadata": {},
   "outputs": [],
   "source": [
    "# counting to see if our training and test sets have a good distribution in the high_price column\n",
    "lows_train = sum(y_train == 0)\n",
    "highs_train = sum(y_train == 1)\n",
    "lows_test = sum(y_test == 0)\n",
    "highs_test = sum(y_test == 1)"
   ]
  },
  {
   "cell_type": "code",
   "execution_count": 24,
   "id": "9b893f2c",
   "metadata": {},
   "outputs": [
    {
     "data": {
      "text/plain": [
       "94"
      ]
     },
     "execution_count": 24,
     "metadata": {},
     "output_type": "execute_result"
    }
   ],
   "source": [
    "lows_train "
   ]
  },
  {
   "cell_type": "code",
   "execution_count": 25,
   "id": "324c9f00",
   "metadata": {},
   "outputs": [
    {
     "data": {
      "text/plain": [
       "33"
      ]
     },
     "execution_count": 25,
     "metadata": {},
     "output_type": "execute_result"
    }
   ],
   "source": [
    "highs_train "
   ]
  },
  {
   "cell_type": "code",
   "execution_count": 26,
   "id": "ffa2dcc9",
   "metadata": {},
   "outputs": [
    {
     "data": {
      "text/plain": [
       "25"
      ]
     },
     "execution_count": 26,
     "metadata": {},
     "output_type": "execute_result"
    }
   ],
   "source": [
    "lows_test"
   ]
  },
  {
   "cell_type": "code",
   "execution_count": 27,
   "id": "8d77db29",
   "metadata": {},
   "outputs": [
    {
     "data": {
      "text/plain": [
       "7"
      ]
     },
     "execution_count": 27,
     "metadata": {},
     "output_type": "execute_result"
    }
   ],
   "source": [
    "highs_test"
   ]
  },
  {
   "cell_type": "code",
   "execution_count": 28,
   "id": "addb182f",
   "metadata": {},
   "outputs": [
    {
     "data": {
      "image/png": "[encoded data removed]",
      "text/plain": [
       "<Figure size 640x480 with 1 Axes>"
      ]
     },
     "metadata": {},
     "output_type": "display_data"
    }
   ],
   "source": [
    "df.plot.scatter(x=\"horsepower\", y=\"high_price\")\n",
    "plt.show()"
   ]
  },
  {
   "cell_type": "markdown",
   "id": "5379054c",
   "metadata": {},
   "source": [
    "From the graph we can clearly see that as horsepower increases so does the price"
   ]
  },
  {
   "cell_type": "code",
   "execution_count": 29,
   "id": "c04b4270",
   "metadata": {},
   "outputs": [],
   "source": [
    "# Instantiate the logistic regression\n",
    "lm = LogisticRegression()"
   ]
  },
  {
   "cell_type": "code",
   "execution_count": 30,
   "id": "d790c13f",
   "metadata": {},
   "outputs": [],
   "source": [
    "# Using horsepower alone as our predictor feature\n",
    "X_sub = X_train[[\"horsepower\"]]\n",
    "fit = lm.fit(X_sub, y_train)"
   ]
  },
  {
   "cell_type": "code",
   "execution_count": 31,
   "id": "d580d902",
   "metadata": {},
   "outputs": [
    {
     "data": {
      "text/plain": [
       "array([-8.8935548])"
      ]
     },
     "execution_count": 31,
     "metadata": {},
     "output_type": "execute_result"
    }
   ],
   "source": [
    "# Calculate for the intercept\n",
    "intercept = lm.intercept_\n",
    "intercept"
   ]
  },
  {
   "cell_type": "code",
   "execution_count": 32,
   "id": "5da3acb1",
   "metadata": {},
   "outputs": [
    {
     "data": {
      "text/plain": [
       "0.8740157480314961"
      ]
     },
     "execution_count": 32,
     "metadata": {},
     "output_type": "execute_result"
    }
   ],
   "source": [
    "# Calculate the accuracy of the model\n",
    "accuracy = lm.score(X_sub, y_train)\n",
    "accuracy"
   ]
  },
  {
   "cell_type": "code",
   "execution_count": 33,
   "id": "df832cff",
   "metadata": {},
   "outputs": [],
   "source": [
    "predictions = lm.predict(X_sub)"
   ]
  },
  {
   "cell_type": "code",
   "execution_count": 34,
   "id": "64390dfd",
   "metadata": {},
   "outputs": [
    {
     "data": {
      "text/plain": [
       "0.6060606060606061"
      ]
     },
     "execution_count": 34,
     "metadata": {},
     "output_type": "execute_result"
    }
   ],
   "source": [
    "# Calculate for the sensitivity\n",
    "tp = sum((y_train == 1) & (predictions == 1))\n",
    "fn = sum((y_train == 1) & (predictions == 0))\n",
    "sensitivity = tp / (tp + fn)\n",
    "sensitivity"
   ]
  },
  {
   "cell_type": "code",
   "execution_count": 35,
   "id": "4cbceb20",
   "metadata": {},
   "outputs": [
    {
     "data": {
      "text/plain": [
       "0.9680851063829787"
      ]
     },
     "execution_count": 35,
     "metadata": {},
     "output_type": "execute_result"
    }
   ],
   "source": [
    "# Calculate the Specifity\n",
    "tn = sum((y_train == 0) & (predictions == 0))\n",
    "fp = sum((y_train == 0) & (predictions == 1))\n",
    "specificity = tn / (tn + fp)\n",
    "specificity"
   ]
  },
  {
   "cell_type": "code",
   "execution_count": 36,
   "id": "900836b3",
   "metadata": {},
   "outputs": [
    {
     "data": {
      "text/plain": [
       "0.8695652173913043"
      ]
     },
     "execution_count": 36,
     "metadata": {},
     "output_type": "execute_result"
    }
   ],
   "source": [
    "# Positive Predictive Value\n",
    "tp = sum((y_train == 1) & predictions == 1)\n",
    "fp = sum((y_train == 0) & predictions == 1)\n",
    "ppv = tp / (tp + fp)\n",
    "ppv"
   ]
  },
  {
   "cell_type": "code",
   "execution_count": 37,
   "id": "53647494",
   "metadata": {},
   "outputs": [
    {
     "data": {
      "text/plain": [
       "0.875"
      ]
     },
     "execution_count": 37,
     "metadata": {},
     "output_type": "execute_result"
    }
   ],
   "source": [
    "# Negative Predictive Value\n",
    "tn = sum((y_train == 0) & (predictions == 0))\n",
    "fn = sum((y_train == 1) & (predictions == 0))\n",
    "npv = tn / (tn + fn)\n",
    "npv"
   ]
  },
  {
   "cell_type": "code",
   "execution_count": 38,
   "id": "b2f2ef04",
   "metadata": {},
   "outputs": [
    {
     "data": {
      "text/plain": [
       "array([0.00013727])"
      ]
     },
     "execution_count": 38,
     "metadata": {},
     "output_type": "execute_result"
    }
   ],
   "source": [
    "# Caclulate the odds\n",
    "odds = np.exp(intercept)\n",
    "odds"
   ]
  },
  {
   "cell_type": "code",
   "execution_count": 39,
   "id": "2bdad670",
   "metadata": {},
   "outputs": [
    {
     "data": {
      "text/plain": [
       "0.0744875648398149"
      ]
     },
     "execution_count": 39,
     "metadata": {},
     "output_type": "execute_result"
    }
   ],
   "source": [
    "log_or = lm.coef_[0,0]\n",
    "log_or"
   ]
  },
  {
   "cell_type": "code",
   "execution_count": 40,
   "id": "1dcdbb0d",
   "metadata": {},
   "outputs": [
    {
     "data": {
      "text/plain": [
       "1.07733194664363"
      ]
     },
     "execution_count": 40,
     "metadata": {},
     "output_type": "execute_result"
    }
   ],
   "source": [
    "# Calculate the odds ratio\n",
    "odds_ratio = np.exp(log_or)\n",
    "odds_ratio"
   ]
  },
  {
   "cell_type": "markdown",
   "id": "5bb21876",
   "metadata": {},
   "source": [
    "Using horsepower and highway-mpg as our predictors"
   ]
  },
  {
   "cell_type": "code",
   "execution_count": 41,
   "id": "3b900f8b",
   "metadata": {},
   "outputs": [],
   "source": [
    "X_subs = X_train[['horsepower', 'highway-mpg']]"
   ]
  },
  {
   "cell_type": "code",
   "execution_count": 42,
   "id": "a07c2f46",
   "metadata": {},
   "outputs": [
    {
     "data": {
      "text/html": [
       "<style>#sk-container-id-1 {color: black;background-color: white;}#sk-container-id-1 pre{padding: 0;}#sk-container-id-1 div.sk-toggleable {background-color: white;}#sk-container-id-1 label.sk-toggleable__label {cursor: pointer;display: block;width: 100%;margin-bottom: 0;padding: 0.3em;box-sizing: border-box;text-align: center;}#sk-container-id-1 label.sk-toggleable__label-arrow:before {content: \"▸\";float: left;margin-right: 0.25em;color: #696969;}#sk-container-id-1 label.sk-toggleable__label-arrow:hover:before {color: black;}#sk-container-id-1 div.sk-estimator:hover label.sk-toggleable__label-arrow:before {color: black;}#sk-container-id-1 div.sk-toggleable__content {max-height: 0;max-width: 0;overflow: hidden;text-align: left;background-color: #f0f8ff;}#sk-container-id-1 div.sk-toggleable__content pre {margin: 0.2em;color: black;border-radius: 0.25em;background-color: #f0f8ff;}#sk-container-id-1 input.sk-toggleable__control:checked~div.sk-toggleable__content {max-height: 200px;max-width: 100%;overflow: auto;}#sk-container-id-1 input.sk-toggleable__control:checked~label.sk-toggleable__label-arrow:before {content: \"▾\";}#sk-container-id-1 div.sk-estimator input.sk-toggleable__control:checked~label.sk-toggleable__label {background-color: #d4ebff;}#sk-container-id-1 div.sk-label input.sk-toggleable__control:checked~label.sk-toggleable__label {background-color: #d4ebff;}#sk-container-id-1 input.sk-hidden--visually {border: 0;clip: rect(1px 1px 1px 1px);clip: rect(1px, 1px, 1px, 1px);height: 1px;margin: -1px;overflow: hidden;padding: 0;position: absolute;width: 1px;}#sk-container-id-1 div.sk-estimator {font-family: monospace;background-color: #f0f8ff;border: 1px dotted black;border-radius: 0.25em;box-sizing: border-box;margin-bottom: 0.5em;}#sk-container-id-1 div.sk-estimator:hover {background-color: #d4ebff;}#sk-container-id-1 div.sk-parallel-item::after {content: \"\";width: 100%;border-bottom: 1px solid gray;flex-grow: 1;}#sk-container-id-1 div.sk-label:hover label.sk-toggleable__label {background-color: #d4ebff;}#sk-container-id-1 div.sk-serial::before {content: \"\";position: absolute;border-left: 1px solid gray;box-sizing: border-box;top: 0;bottom: 0;left: 50%;z-index: 0;}#sk-container-id-1 div.sk-serial {display: flex;flex-direction: column;align-items: center;background-color: white;padding-right: 0.2em;padding-left: 0.2em;position: relative;}#sk-container-id-1 div.sk-item {position: relative;z-index: 1;}#sk-container-id-1 div.sk-parallel {display: flex;align-items: stretch;justify-content: center;background-color: white;position: relative;}#sk-container-id-1 div.sk-item::before, #sk-container-id-1 div.sk-parallel-item::before {content: \"\";position: absolute;border-left: 1px solid gray;box-sizing: border-box;top: 0;bottom: 0;left: 50%;z-index: -1;}#sk-container-id-1 div.sk-parallel-item {display: flex;flex-direction: column;z-index: 1;position: relative;background-color: white;}#sk-container-id-1 div.sk-parallel-item:first-child::after {align-self: flex-end;width: 50%;}#sk-container-id-1 div.sk-parallel-item:last-child::after {align-self: flex-start;width: 50%;}#sk-container-id-1 div.sk-parallel-item:only-child::after {width: 0;}#sk-container-id-1 div.sk-dashed-wrapped {border: 1px dashed gray;margin: 0 0.4em 0.5em 0.4em;box-sizing: border-box;padding-bottom: 0.4em;background-color: white;}#sk-container-id-1 div.sk-label label {font-family: monospace;font-weight: bold;display: inline-block;line-height: 1.2em;}#sk-container-id-1 div.sk-label-container {text-align: center;}#sk-container-id-1 div.sk-container {/* jupyter's `normalize.less` sets `[hidden] { display: none; }` but bootstrap.min.css set `[hidden] { display: none !important; }` so we also need the `!important` here to be able to override the default hidden behavior on the sphinx rendered scikit-learn.org. See: https://github.com/scikit-learn/scikit-learn/issues/21755 */display: inline-block !important;position: relative;}#sk-container-id-1 div.sk-text-repr-fallback {display: none;}</style><div id=\"sk-container-id-1\" class=\"sk-top-container\"><div class=\"sk-text-repr-fallback\"><pre>LogisticRegression()</pre><b>In a Jupyter environment, please rerun this cell to show the HTML representation or trust the notebook. <br />On GitHub, the HTML representation is unable to render, please try loading this page with nbviewer.org.</b></div><div class=\"sk-container\" hidden><div class=\"sk-item\"><div class=\"sk-estimator sk-toggleable\"><input class=\"sk-toggleable__control sk-hidden--visually\" id=\"sk-estimator-id-1\" type=\"checkbox\" checked><label for=\"sk-estimator-id-1\" class=\"sk-toggleable__label sk-toggleable__label-arrow\">LogisticRegression</label><div class=\"sk-toggleable__content\"><pre>LogisticRegression()</pre></div></div></div></div></div>"
      ],
      "text/plain": [
       "LogisticRegression()"
      ]
     },
     "execution_count": 42,
     "metadata": {},
     "output_type": "execute_result"
    }
   ],
   "source": [
    "lm.fit(X_subs, y_train)"
   ]
  },
  {
   "cell_type": "code",
   "execution_count": 43,
   "id": "76b3b744",
   "metadata": {},
   "outputs": [
    {
     "data": {
      "text/plain": [
       "array([5.24397563])"
      ]
     },
     "execution_count": 43,
     "metadata": {},
     "output_type": "execute_result"
    }
   ],
   "source": [
    "lm.intercept_"
   ]
  },
  {
   "cell_type": "code",
   "execution_count": 44,
   "id": "e55e460f",
   "metadata": {},
   "outputs": [],
   "source": [
    "horsepower_or = np.exp(lm.coef_[0, 0])\n",
    "highway_mpg_or = np.exp(lm.coef_[0, 1])"
   ]
  },
  {
   "cell_type": "code",
   "execution_count": 45,
   "id": "06367730",
   "metadata": {},
   "outputs": [
    {
     "data": {
      "text/plain": [
       "1.0338298356554507"
      ]
     },
     "execution_count": 45,
     "metadata": {},
     "output_type": "execute_result"
    }
   ],
   "source": [
    "horsepower_or"
   ]
  },
  {
   "cell_type": "code",
   "execution_count": 46,
   "id": "17ca81fc",
   "metadata": {},
   "outputs": [
    {
     "data": {
      "text/plain": [
       "0.7147381153268761"
      ]
     },
     "execution_count": 46,
     "metadata": {},
     "output_type": "execute_result"
    }
   ],
   "source": [
    "highway_mpg_or"
   ]
  },
  {
   "cell_type": "code",
   "execution_count": 47,
   "id": "faff859f",
   "metadata": {},
   "outputs": [
    {
     "data": {
      "text/plain": [
       "array([[8.98060271e-01, 1.01939729e-01],\n",
       "       [9.98960724e-01, 1.03927607e-03],\n",
       "       [9.14938054e-01, 8.50619456e-02],\n",
       "       [9.74568797e-01, 2.54312028e-02],\n",
       "       [8.08088445e-01, 1.91911555e-01],\n",
       "       [9.29241616e-01, 7.07583836e-02],\n",
       "       [9.68935212e-01, 3.10647879e-02],\n",
       "       [9.39249828e-01, 6.07501719e-02],\n",
       "       [9.92508205e-01, 7.49179530e-03],\n",
       "       [5.90665314e-01, 4.09334686e-01],\n",
       "       [9.92256721e-01, 7.74327900e-03],\n",
       "       [6.04403052e-01, 3.95596948e-01],\n",
       "       [9.88500826e-01, 1.14991737e-02],\n",
       "       [5.90665314e-01, 4.09334686e-01],\n",
       "       [5.90665314e-01, 4.09334686e-01],\n",
       "       [9.65992878e-01, 3.40071218e-02],\n",
       "       [9.19975705e-01, 8.00242949e-02],\n",
       "       [3.74966007e-02, 9.62503399e-01],\n",
       "       [9.92508205e-01, 7.49179530e-03],\n",
       "       [9.35718661e-01, 6.42813391e-02],\n",
       "       [9.94808544e-01, 5.19145609e-03],\n",
       "       [9.39249828e-01, 6.07501719e-02],\n",
       "       [9.35718661e-01, 6.42813391e-02],\n",
       "       [9.68015285e-01, 3.19847151e-02],\n",
       "       [1.51615411e-02, 9.84838459e-01],\n",
       "       [1.21544711e-01, 8.78455289e-01],\n",
       "       [9.50137816e-01, 4.98621836e-02],\n",
       "       [9.51546189e-01, 4.84538115e-02],\n",
       "       [1.29535934e-01, 8.70464066e-01],\n",
       "       [9.51546189e-01, 4.84538115e-02],\n",
       "       [9.92508205e-01, 7.49179530e-03],\n",
       "       [5.33406426e-01, 4.66593574e-01],\n",
       "       [8.08088445e-01, 1.91911555e-01],\n",
       "       [6.90480382e-01, 3.09519618e-01],\n",
       "       [2.80853373e-01, 7.19146627e-01],\n",
       "       [9.98098205e-01, 1.90179535e-03],\n",
       "       [7.25488923e-01, 2.74511077e-01],\n",
       "       [9.94808544e-01, 5.19145609e-03],\n",
       "       [9.94055450e-01, 5.94454991e-03],\n",
       "       [7.56772971e-01, 2.43227029e-01],\n",
       "       [1.18363872e-01, 8.81636128e-01],\n",
       "       [2.80853373e-01, 7.19146627e-01],\n",
       "       [6.22411672e-01, 3.77588328e-01],\n",
       "       [9.79074503e-01, 2.09254965e-02],\n",
       "       [9.29241616e-01, 7.07583836e-02],\n",
       "       [9.19975705e-01, 8.00242949e-02],\n",
       "       [9.92508205e-01, 7.49179530e-03],\n",
       "       [9.96954367e-01, 3.04563274e-03],\n",
       "       [6.83325284e-01, 3.16674716e-01],\n",
       "       [9.89549374e-01, 1.04506264e-02],\n",
       "       [8.17729559e-01, 1.82270441e-01],\n",
       "       [2.80853373e-01, 7.19146627e-01],\n",
       "       [9.99791335e-01, 2.08664997e-04],\n",
       "       [8.70278069e-01, 1.29721931e-01],\n",
       "       [6.22411672e-01, 3.77588328e-01],\n",
       "       [9.98960724e-01, 1.03927607e-03],\n",
       "       [9.94808544e-01, 5.19145609e-03],\n",
       "       [9.35718661e-01, 6.42813391e-02],\n",
       "       [9.99982591e-01, 1.74086473e-05],\n",
       "       [7.25488923e-01, 2.74511077e-01],\n",
       "       [9.94808544e-01, 5.19145609e-03],\n",
       "       [9.95743986e-01, 4.25601355e-03],\n",
       "       [9.92508205e-01, 7.49179530e-03],\n",
       "       [9.48076443e-01, 5.19235569e-02],\n",
       "       [9.98098205e-01, 1.90179535e-03],\n",
       "       [4.14715285e-01, 5.85284715e-01],\n",
       "       [9.37507519e-01, 6.24924808e-02],\n",
       "       [9.92508205e-01, 7.49179530e-03],\n",
       "       [9.95743986e-01, 4.25601355e-03],\n",
       "       [1.26701885e-02, 9.87329811e-01],\n",
       "       [5.73718492e-01, 4.26281508e-01],\n",
       "       [9.94808544e-01, 5.19145609e-03],\n",
       "       [6.83325284e-01, 3.16674716e-01],\n",
       "       [7.30782089e-02, 9.26921791e-01],\n",
       "       [9.94808544e-01, 5.19145609e-03],\n",
       "       [1.37597348e-01, 8.62402652e-01],\n",
       "       [8.84878233e-03, 9.91151218e-01],\n",
       "       [9.41294295e-01, 5.87057052e-02],\n",
       "       [9.37507519e-01, 6.24924808e-02],\n",
       "       [7.56772971e-01, 2.43227029e-01],\n",
       "       [1.29182612e-01, 8.70817388e-01],\n",
       "       [7.30782089e-02, 9.26921791e-01],\n",
       "       [8.62950643e-01, 1.37049357e-01],\n",
       "       [9.79074503e-01, 2.09254965e-02],\n",
       "       [9.65992878e-01, 3.40071218e-02],\n",
       "       [9.29241616e-01, 7.07583836e-02],\n",
       "       [5.90665314e-01, 4.09334686e-01],\n",
       "       [9.50137816e-01, 4.98621836e-02],\n",
       "       [2.82122360e-01, 7.17877640e-01],\n",
       "       [7.25488923e-01, 2.74511077e-01],\n",
       "       [9.37507519e-01, 6.24924808e-02],\n",
       "       [6.22411672e-01, 3.77588328e-01],\n",
       "       [5.15349178e-02, 9.48465082e-01],\n",
       "       [9.92508205e-01, 7.49179530e-03],\n",
       "       [9.99829624e-01, 1.70376395e-04],\n",
       "       [3.75728157e-01, 6.24271843e-01],\n",
       "       [7.25488923e-01, 2.74511077e-01],\n",
       "       [1.02363986e-01, 8.97636014e-01],\n",
       "       [9.94808544e-01, 5.19145609e-03],\n",
       "       [7.25488923e-01, 2.74511077e-01],\n",
       "       [4.57913865e-01, 5.42086135e-01],\n",
       "       [7.25488923e-01, 2.74511077e-01],\n",
       "       [9.94808544e-01, 5.19145609e-03],\n",
       "       [9.92508205e-01, 7.49179530e-03],\n",
       "       [1.56885277e-01, 8.43114723e-01],\n",
       "       [9.57454135e-01, 4.25458654e-02],\n",
       "       [8.08088445e-01, 1.91911555e-01],\n",
       "       [9.57326157e-01, 4.26738426e-02],\n",
       "       [3.98661196e-01, 6.01338804e-01],\n",
       "       [9.98957462e-01, 1.04253814e-03],\n",
       "       [6.89809520e-01, 3.10190480e-01],\n",
       "       [9.92508205e-01, 7.49179530e-03],\n",
       "       [7.25488923e-01, 2.74511077e-01],\n",
       "       [9.98639977e-01, 1.36002345e-03],\n",
       "       [7.25488923e-01, 2.74511077e-01],\n",
       "       [1.37597348e-01, 8.62402652e-01],\n",
       "       [9.65992878e-01, 3.40071218e-02],\n",
       "       [2.80853373e-01, 7.19146627e-01],\n",
       "       [9.99728573e-01, 2.71426589e-04],\n",
       "       [9.99939820e-01, 6.01795664e-05],\n",
       "       [9.19975705e-01, 8.00242949e-02],\n",
       "       [9.94808544e-01, 5.19145609e-03],\n",
       "       [1.02363986e-01, 8.97636014e-01],\n",
       "       [3.97333084e-02, 9.60266692e-01],\n",
       "       [9.94808544e-01, 5.19145609e-03],\n",
       "       [5.90665314e-01, 4.09334686e-01],\n",
       "       [8.70278069e-01, 1.29721931e-01]])"
      ]
     },
     "execution_count": 47,
     "metadata": {},
     "output_type": "execute_result"
    }
   ],
   "source": [
    "probs = lm.predict_proba(X_subs)\n",
    "probs"
   ]
  },
  {
   "cell_type": "code",
   "execution_count": 48,
   "id": "a9813fb1",
   "metadata": {},
   "outputs": [
    {
     "data": {
      "text/plain": [
       "0.8818897637795275"
      ]
     },
     "execution_count": 48,
     "metadata": {},
     "output_type": "execute_result"
    }
   ],
   "source": [
    "# Accuracy of the model\n",
    "accuracy = lm.score(X_subs, y_train)\n",
    "accuracy"
   ]
  },
  {
   "cell_type": "markdown",
   "id": "523c90ff",
   "metadata": {},
   "source": [
    "The accuracy is slightly improved from when we used only horsepower as our predictor"
   ]
  },
  {
   "cell_type": "markdown",
   "id": "7ffccfb6",
   "metadata": {},
   "source": [
    "### Comparing the accuracies of two models with different features"
   ]
  },
  {
   "cell_type": "code",
   "execution_count": 49,
   "id": "419d565a",
   "metadata": {},
   "outputs": [],
   "source": [
    "X1 = X_train[[\"length\", \"horsepower\"]]\n",
    "X2 = X_train[[\"stroke\", \"compression-ratio\"]]"
   ]
  },
  {
   "cell_type": "code",
   "execution_count": 50,
   "id": "4d163d73",
   "metadata": {},
   "outputs": [],
   "source": [
    "model1 = LogisticRegression()\n",
    "model2 = LogisticRegression()"
   ]
  },
  {
   "cell_type": "code",
   "execution_count": 51,
   "id": "9893b124",
   "metadata": {},
   "outputs": [
    {
     "data": {
      "text/html": [
       "<style>#sk-container-id-2 {color: black;background-color: white;}#sk-container-id-2 pre{padding: 0;}#sk-container-id-2 div.sk-toggleable {background-color: white;}#sk-container-id-2 label.sk-toggleable__label {cursor: pointer;display: block;width: 100%;margin-bottom: 0;padding: 0.3em;box-sizing: border-box;text-align: center;}#sk-container-id-2 label.sk-toggleable__label-arrow:before {content: \"▸\";float: left;margin-right: 0.25em;color: #696969;}#sk-container-id-2 label.sk-toggleable__label-arrow:hover:before {color: black;}#sk-container-id-2 div.sk-estimator:hover label.sk-toggleable__label-arrow:before {color: black;}#sk-container-id-2 div.sk-toggleable__content {max-height: 0;max-width: 0;overflow: hidden;text-align: left;background-color: #f0f8ff;}#sk-container-id-2 div.sk-toggleable__content pre {margin: 0.2em;color: black;border-radius: 0.25em;background-color: #f0f8ff;}#sk-container-id-2 input.sk-toggleable__control:checked~div.sk-toggleable__content {max-height: 200px;max-width: 100%;overflow: auto;}#sk-container-id-2 input.sk-toggleable__control:checked~label.sk-toggleable__label-arrow:before {content: \"▾\";}#sk-container-id-2 div.sk-estimator input.sk-toggleable__control:checked~label.sk-toggleable__label {background-color: #d4ebff;}#sk-container-id-2 div.sk-label input.sk-toggleable__control:checked~label.sk-toggleable__label {background-color: #d4ebff;}#sk-container-id-2 input.sk-hidden--visually {border: 0;clip: rect(1px 1px 1px 1px);clip: rect(1px, 1px, 1px, 1px);height: 1px;margin: -1px;overflow: hidden;padding: 0;position: absolute;width: 1px;}#sk-container-id-2 div.sk-estimator {font-family: monospace;background-color: #f0f8ff;border: 1px dotted black;border-radius: 0.25em;box-sizing: border-box;margin-bottom: 0.5em;}#sk-container-id-2 div.sk-estimator:hover {background-color: #d4ebff;}#sk-container-id-2 div.sk-parallel-item::after {content: \"\";width: 100%;border-bottom: 1px solid gray;flex-grow: 1;}#sk-container-id-2 div.sk-label:hover label.sk-toggleable__label {background-color: #d4ebff;}#sk-container-id-2 div.sk-serial::before {content: \"\";position: absolute;border-left: 1px solid gray;box-sizing: border-box;top: 0;bottom: 0;left: 50%;z-index: 0;}#sk-container-id-2 div.sk-serial {display: flex;flex-direction: column;align-items: center;background-color: white;padding-right: 0.2em;padding-left: 0.2em;position: relative;}#sk-container-id-2 div.sk-item {position: relative;z-index: 1;}#sk-container-id-2 div.sk-parallel {display: flex;align-items: stretch;justify-content: center;background-color: white;position: relative;}#sk-container-id-2 div.sk-item::before, #sk-container-id-2 div.sk-parallel-item::before {content: \"\";position: absolute;border-left: 1px solid gray;box-sizing: border-box;top: 0;bottom: 0;left: 50%;z-index: -1;}#sk-container-id-2 div.sk-parallel-item {display: flex;flex-direction: column;z-index: 1;position: relative;background-color: white;}#sk-container-id-2 div.sk-parallel-item:first-child::after {align-self: flex-end;width: 50%;}#sk-container-id-2 div.sk-parallel-item:last-child::after {align-self: flex-start;width: 50%;}#sk-container-id-2 div.sk-parallel-item:only-child::after {width: 0;}#sk-container-id-2 div.sk-dashed-wrapped {border: 1px dashed gray;margin: 0 0.4em 0.5em 0.4em;box-sizing: border-box;padding-bottom: 0.4em;background-color: white;}#sk-container-id-2 div.sk-label label {font-family: monospace;font-weight: bold;display: inline-block;line-height: 1.2em;}#sk-container-id-2 div.sk-label-container {text-align: center;}#sk-container-id-2 div.sk-container {/* jupyter's `normalize.less` sets `[hidden] { display: none; }` but bootstrap.min.css set `[hidden] { display: none !important; }` so we also need the `!important` here to be able to override the default hidden behavior on the sphinx rendered scikit-learn.org. See: https://github.com/scikit-learn/scikit-learn/issues/21755 */display: inline-block !important;position: relative;}#sk-container-id-2 div.sk-text-repr-fallback {display: none;}</style><div id=\"sk-container-id-2\" class=\"sk-top-container\"><div class=\"sk-text-repr-fallback\"><pre>LogisticRegression()</pre><b>In a Jupyter environment, please rerun this cell to show the HTML representation or trust the notebook. <br />On GitHub, the HTML representation is unable to render, please try loading this page with nbviewer.org.</b></div><div class=\"sk-container\" hidden><div class=\"sk-item\"><div class=\"sk-estimator sk-toggleable\"><input class=\"sk-toggleable__control sk-hidden--visually\" id=\"sk-estimator-id-2\" type=\"checkbox\" checked><label for=\"sk-estimator-id-2\" class=\"sk-toggleable__label sk-toggleable__label-arrow\">LogisticRegression</label><div class=\"sk-toggleable__content\"><pre>LogisticRegression()</pre></div></div></div></div></div>"
      ],
      "text/plain": [
       "LogisticRegression()"
      ]
     },
     "execution_count": 51,
     "metadata": {},
     "output_type": "execute_result"
    }
   ],
   "source": [
    "model1.fit(X1, y_train)\n",
    "model2.fit(X2, y_train)"
   ]
  },
  {
   "cell_type": "code",
   "execution_count": 52,
   "id": "0d38f0df",
   "metadata": {},
   "outputs": [
    {
     "data": {
      "text/plain": [
       "0.8661417322834646"
      ]
     },
     "execution_count": 52,
     "metadata": {},
     "output_type": "execute_result"
    }
   ],
   "source": [
    "accuracy1 = model1.score(X1, y_train)\n",
    "accuracy1"
   ]
  },
  {
   "cell_type": "code",
   "execution_count": 53,
   "id": "6e3147bf",
   "metadata": {},
   "outputs": [
    {
     "data": {
      "text/plain": [
       "0.7165354330708661"
      ]
     },
     "execution_count": 53,
     "metadata": {},
     "output_type": "execute_result"
    }
   ],
   "source": [
    "accuracy2 = model2.score(X2, y_train)\n",
    "accuracy2"
   ]
  },
  {
   "cell_type": "markdown",
   "id": "953e41be",
   "metadata": {},
   "source": [
    "### Feature Selection via Split-Apply-Combine"
   ]
  },
  {
   "cell_type": "code",
   "execution_count": 54,
   "id": "41627bbb",
   "metadata": {},
   "outputs": [],
   "source": [
    "summary = df.groupby(\"high_price\").agg(\n",
    "\t{\n",
    "    \t\"horsepower\": \"mean\",\n",
    "      \t\"width\": \"mean\",\n",
    "        \"stroke\": \"mean\",\n",
    "        \"compression-ratio\": \"mean\"\n",
    "    }\n",
    ")"
   ]
  },
  {
   "cell_type": "code",
   "execution_count": 55,
   "id": "f1a3bb1f",
   "metadata": {},
   "outputs": [
    {
     "data": {
      "text/html": [
       "<div>\n",
       "<style scoped>\n",
       "    .dataframe tbody tr th:only-of-type {\n",
       "        vertical-align: middle;\n",
       "    }\n",
       "\n",
       "    .dataframe tbody tr th {\n",
       "        vertical-align: top;\n",
       "    }\n",
       "\n",
       "    .dataframe thead th {\n",
       "        text-align: right;\n",
       "    }\n",
       "</style>\n",
       "<table border=\"1\" class=\"dataframe\">\n",
       "  <thead>\n",
       "    <tr style=\"text-align: right;\">\n",
       "      <th></th>\n",
       "      <th>horsepower</th>\n",
       "      <th>width</th>\n",
       "      <th>stroke</th>\n",
       "      <th>compression-ratio</th>\n",
       "    </tr>\n",
       "    <tr>\n",
       "      <th>high_price</th>\n",
       "      <th></th>\n",
       "      <th></th>\n",
       "      <th></th>\n",
       "      <th></th>\n",
       "    </tr>\n",
       "  </thead>\n",
       "  <tbody>\n",
       "    <tr>\n",
       "      <th>0</th>\n",
       "      <td>83.907563</td>\n",
       "      <td>64.821849</td>\n",
       "      <td>3.241261</td>\n",
       "      <td>9.886723</td>\n",
       "    </tr>\n",
       "    <tr>\n",
       "      <th>1</th>\n",
       "      <td>131.325000</td>\n",
       "      <td>67.945000</td>\n",
       "      <td>3.221750</td>\n",
       "      <td>10.977500</td>\n",
       "    </tr>\n",
       "  </tbody>\n",
       "</table>\n",
       "</div>"
      ],
      "text/plain": [
       "            horsepower      width    stroke  compression-ratio\n",
       "high_price                                                    \n",
       "0            83.907563  64.821849  3.241261           9.886723\n",
       "1           131.325000  67.945000  3.221750          10.977500"
      ]
     },
     "execution_count": 55,
     "metadata": {},
     "output_type": "execute_result"
    }
   ],
   "source": [
    "summary"
   ]
  },
  {
   "cell_type": "markdown",
   "id": "0996469e",
   "metadata": {},
   "source": [
    "We can see that horsepower is a good predictor as their is a significant difference betwen the mean in high_price"
   ]
  },
  {
   "cell_type": "markdown",
   "id": "92120229",
   "metadata": {},
   "source": [
    "### Model Complexity"
   ]
  },
  {
   "cell_type": "code",
   "execution_count": 56,
   "id": "1e419546",
   "metadata": {},
   "outputs": [],
   "source": [
    "X1 = X_train[[\"horsepower\"]]\n",
    "X2 = X_train[[\"horsepower\", \"compression-ratio\"]]\n",
    "X3 = X_train[[\"horsepower\", \"compression-ratio\", \"city-mpg\"]]"
   ]
  },
  {
   "cell_type": "code",
   "execution_count": 57,
   "id": "d003a15b",
   "metadata": {},
   "outputs": [],
   "source": [
    "X1_test = X_test[[\"horsepower\"]]\n",
    "X2_test = X_test[[\"horsepower\", \"compression-ratio\"]]\n",
    "X3_test = X_test[[\"horsepower\", \"compression-ratio\", \"city-mpg\"]]"
   ]
  },
  {
   "cell_type": "code",
   "execution_count": 58,
   "id": "d9a8fbef",
   "metadata": {},
   "outputs": [],
   "source": [
    "model1 = LogisticRegression()\n",
    "model2 = LogisticRegression()\n",
    "model3 = LogisticRegression()"
   ]
  },
  {
   "cell_type": "code",
   "execution_count": 59,
   "id": "02b00025",
   "metadata": {},
   "outputs": [
    {
     "data": {
      "text/html": [
       "<style>#sk-container-id-3 {color: black;background-color: white;}#sk-container-id-3 pre{padding: 0;}#sk-container-id-3 div.sk-toggleable {background-color: white;}#sk-container-id-3 label.sk-toggleable__label {cursor: pointer;display: block;width: 100%;margin-bottom: 0;padding: 0.3em;box-sizing: border-box;text-align: center;}#sk-container-id-3 label.sk-toggleable__label-arrow:before {content: \"▸\";float: left;margin-right: 0.25em;color: #696969;}#sk-container-id-3 label.sk-toggleable__label-arrow:hover:before {color: black;}#sk-container-id-3 div.sk-estimator:hover label.sk-toggleable__label-arrow:before {color: black;}#sk-container-id-3 div.sk-toggleable__content {max-height: 0;max-width: 0;overflow: hidden;text-align: left;background-color: #f0f8ff;}#sk-container-id-3 div.sk-toggleable__content pre {margin: 0.2em;color: black;border-radius: 0.25em;background-color: #f0f8ff;}#sk-container-id-3 input.sk-toggleable__control:checked~div.sk-toggleable__content {max-height: 200px;max-width: 100%;overflow: auto;}#sk-container-id-3 input.sk-toggleable__control:checked~label.sk-toggleable__label-arrow:before {content: \"▾\";}#sk-container-id-3 div.sk-estimator input.sk-toggleable__control:checked~label.sk-toggleable__label {background-color: #d4ebff;}#sk-container-id-3 div.sk-label input.sk-toggleable__control:checked~label.sk-toggleable__label {background-color: #d4ebff;}#sk-container-id-3 input.sk-hidden--visually {border: 0;clip: rect(1px 1px 1px 1px);clip: rect(1px, 1px, 1px, 1px);height: 1px;margin: -1px;overflow: hidden;padding: 0;position: absolute;width: 1px;}#sk-container-id-3 div.sk-estimator {font-family: monospace;background-color: #f0f8ff;border: 1px dotted black;border-radius: 0.25em;box-sizing: border-box;margin-bottom: 0.5em;}#sk-container-id-3 div.sk-estimator:hover {background-color: #d4ebff;}#sk-container-id-3 div.sk-parallel-item::after {content: \"\";width: 100%;border-bottom: 1px solid gray;flex-grow: 1;}#sk-container-id-3 div.sk-label:hover label.sk-toggleable__label {background-color: #d4ebff;}#sk-container-id-3 div.sk-serial::before {content: \"\";position: absolute;border-left: 1px solid gray;box-sizing: border-box;top: 0;bottom: 0;left: 50%;z-index: 0;}#sk-container-id-3 div.sk-serial {display: flex;flex-direction: column;align-items: center;background-color: white;padding-right: 0.2em;padding-left: 0.2em;position: relative;}#sk-container-id-3 div.sk-item {position: relative;z-index: 1;}#sk-container-id-3 div.sk-parallel {display: flex;align-items: stretch;justify-content: center;background-color: white;position: relative;}#sk-container-id-3 div.sk-item::before, #sk-container-id-3 div.sk-parallel-item::before {content: \"\";position: absolute;border-left: 1px solid gray;box-sizing: border-box;top: 0;bottom: 0;left: 50%;z-index: -1;}#sk-container-id-3 div.sk-parallel-item {display: flex;flex-direction: column;z-index: 1;position: relative;background-color: white;}#sk-container-id-3 div.sk-parallel-item:first-child::after {align-self: flex-end;width: 50%;}#sk-container-id-3 div.sk-parallel-item:last-child::after {align-self: flex-start;width: 50%;}#sk-container-id-3 div.sk-parallel-item:only-child::after {width: 0;}#sk-container-id-3 div.sk-dashed-wrapped {border: 1px dashed gray;margin: 0 0.4em 0.5em 0.4em;box-sizing: border-box;padding-bottom: 0.4em;background-color: white;}#sk-container-id-3 div.sk-label label {font-family: monospace;font-weight: bold;display: inline-block;line-height: 1.2em;}#sk-container-id-3 div.sk-label-container {text-align: center;}#sk-container-id-3 div.sk-container {/* jupyter's `normalize.less` sets `[hidden] { display: none; }` but bootstrap.min.css set `[hidden] { display: none !important; }` so we also need the `!important` here to be able to override the default hidden behavior on the sphinx rendered scikit-learn.org. See: https://github.com/scikit-learn/scikit-learn/issues/21755 */display: inline-block !important;position: relative;}#sk-container-id-3 div.sk-text-repr-fallback {display: none;}</style><div id=\"sk-container-id-3\" class=\"sk-top-container\"><div class=\"sk-text-repr-fallback\"><pre>LogisticRegression()</pre><b>In a Jupyter environment, please rerun this cell to show the HTML representation or trust the notebook. <br />On GitHub, the HTML representation is unable to render, please try loading this page with nbviewer.org.</b></div><div class=\"sk-container\" hidden><div class=\"sk-item\"><div class=\"sk-estimator sk-toggleable\"><input class=\"sk-toggleable__control sk-hidden--visually\" id=\"sk-estimator-id-3\" type=\"checkbox\" checked><label for=\"sk-estimator-id-3\" class=\"sk-toggleable__label sk-toggleable__label-arrow\">LogisticRegression</label><div class=\"sk-toggleable__content\"><pre>LogisticRegression()</pre></div></div></div></div></div>"
      ],
      "text/plain": [
       "LogisticRegression()"
      ]
     },
     "execution_count": 59,
     "metadata": {},
     "output_type": "execute_result"
    }
   ],
   "source": [
    "model1.fit(X1, y_train)\n",
    "model2.fit(X2, y_train)\n",
    "model3.fit(X3, y_train)"
   ]
  },
  {
   "cell_type": "code",
   "execution_count": 60,
   "id": "e1ad02ab",
   "metadata": {},
   "outputs": [],
   "source": [
    "train_accuracies = [\n",
    "    model1.score(X1, y_train),\n",
    "    model2.score(X2, y_train),\n",
    "    model3.score(X3, y_train)\n",
    "]"
   ]
  },
  {
   "cell_type": "code",
   "execution_count": 61,
   "id": "ee4d4ea8",
   "metadata": {},
   "outputs": [
    {
     "data": {
      "text/plain": [
       "[0.8740157480314961, 0.8740157480314961, 0.8976377952755905]"
      ]
     },
     "execution_count": 61,
     "metadata": {},
     "output_type": "execute_result"
    }
   ],
   "source": [
    "train_accuracies"
   ]
  },
  {
   "cell_type": "code",
   "execution_count": 62,
   "id": "93ea5027",
   "metadata": {},
   "outputs": [],
   "source": [
    "test_accuracies = [\n",
    "    model1.score(X1_test, y_test),\n",
    "    model2.score(X2_test, y_test),\n",
    "    model3.score(X3_test, y_test)\n",
    "]"
   ]
  },
  {
   "cell_type": "code",
   "execution_count": 64,
   "id": "7ff4cd29",
   "metadata": {},
   "outputs": [
    {
     "data": {
      "text/plain": [
       "[0.875, 0.84375, 0.96875]"
      ]
     },
     "execution_count": 64,
     "metadata": {},
     "output_type": "execute_result"
    }
   ],
   "source": [
    "test_accuracies"
   ]
  },
  {
   "cell_type": "markdown",
   "id": "57cb6dd3",
   "metadata": {},
   "source": [
    "## Conclusion"
   ]
  },
  {
   "cell_type": "markdown",
   "id": "9a2c8202",
   "metadata": {},
   "source": [
    "All three models with different features have high accuracies, with model 3 that has the most features also having the highest accuracy in both the training and the test data so moving forward, any tuning we do wil have to be in model 3"
   ]
  },
  {
   "cell_type": "code",
   "execution_count": null,
   "id": "ccc00094",
   "metadata": {},
   "outputs": [],
   "source": []
  }
 ],
 "metadata": {
  "kernelspec": {
   "display_name": "Python 3 (ipykernel)",
   "language": "python",
   "name": "python3"
  },
  "language_info": {
   "codemirror_mode": {
    "name": "ipython",
    "version": 3
   },
   "file_extension": ".py",
   "mimetype": "text/x-python",
   "name": "python",
   "nbconvert_exporter": "python",
   "pygments_lexer": "ipython3",
   "version": "3.9.13"
  }
 },
 "nbformat": 4,
 "nbformat_minor": 5
}
